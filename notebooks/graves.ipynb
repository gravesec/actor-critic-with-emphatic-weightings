{
 "cells": [
  {
   "cell_type": "code",
   "execution_count": 1,
   "metadata": {},
   "outputs": [],
   "source": [
    "# Add the src folder and set the current working directory properly.\n",
    "import sys, os\n",
    "os.chdir('..')\n",
    "src_path = os.path.join(os.getcwd(), 'src')\n",
    "if src_path not in sys.path:\n",
    "    sys.path.append(src_path)"
   ]
  },
  {
   "cell_type": "code",
   "execution_count": 5,
   "metadata": {
    "scrolled": true
   },
   "outputs": [],
   "source": [
    "import utils\n",
    "experiment_name = 'MountainCar-v1'\n",
    "behaviour_policy_name = 'random'"
   ]
  },
  {
   "cell_type": "code",
   "execution_count": 14,
   "metadata": {},
   "outputs": [
    {
     "name": "stdout",
     "output_type": "stream",
     "text": [
      "['0', '1', '2', '3', '4']\n"
     ]
    }
   ],
   "source": [
    "data_file_names = utils.list_data_file_paths(experiment_name, behaviour_policy_name)\n",
    "print(data_file_names)"
   ]
  },
  {
   "cell_type": "code",
   "execution_count": 25,
   "metadata": {},
   "outputs": [
    {
     "name": "stdout",
     "output_type": "stream",
     "text": [
      "Episode 15 succeeded\n",
      "Episode 16 succeeded\n",
      "Episode 46 succeeded\n",
      "Episode 50 succeeded\n",
      "Episode 72 succeeded\n",
      "Episode 80 succeeded\n",
      "Number of successful episodes in run 0: 6\n",
      "Episode 6 succeeded\n",
      "Episode 8 succeeded\n",
      "Episode 20 succeeded\n",
      "Episode 27 succeeded\n",
      "Episode 29 succeeded\n",
      "Episode 42 succeeded\n",
      "Episode 46 succeeded\n",
      "Episode 59 succeeded\n",
      "Episode 72 succeeded\n",
      "Episode 89 succeeded\n",
      "Number of successful episodes in run 1: 10\n",
      "Episode 22 succeeded\n",
      "Episode 23 succeeded\n",
      "Episode 25 succeeded\n",
      "Episode 85 succeeded\n",
      "Episode 99 succeeded\n",
      "Number of successful episodes in run 2: 5\n",
      "Episode 29 succeeded\n",
      "Episode 46 succeeded\n",
      "Episode 50 succeeded\n",
      "Episode 84 succeeded\n",
      "Episode 85 succeeded\n",
      "Episode 86 succeeded\n",
      "Number of successful episodes in run 3: 6\n",
      "Episode 13 succeeded\n",
      "Episode 26 succeeded\n",
      "Episode 29 succeeded\n",
      "Episode 34 succeeded\n",
      "Episode 39 succeeded\n",
      "Number of successful episodes in run 4: 5\n",
      "Average number of successful episodes: 6.4\n"
     ]
    }
   ],
   "source": [
    "total_count = 0\n",
    "for data_file_name in data_file_names:\n",
    "    run = utils.load_data_from_file(experiment_name, behaviour_policy_name, data_file_name)\n",
    "    count = 0\n",
    "    episodes = run['episodes']\n",
    "    for episode_num, episode in enumerate(episodes):\n",
    "        if len(episode) < 5000:\n",
    "            count += 1\n",
    "            print('Episode {} succeeded'.format(episode_num))\n",
    "    print('Number of successful episodes in run {}: {}'.format(data_file_name, count))\n",
    "    total_count += count\n",
    "print('Average number of successful episodes: {}'.format(total_count / len(data_file_names)))"
   ]
  },
  {
   "cell_type": "code",
   "execution_count": null,
   "metadata": {},
   "outputs": [],
   "source": []
  }
 ],
 "metadata": {
  "kernelspec": {
   "display_name": "Python 3",
   "language": "python",
   "name": "python3"
  },
  "language_info": {
   "codemirror_mode": {
    "name": "ipython",
    "version": 3
   },
   "file_extension": ".py",
   "mimetype": "text/x-python",
   "name": "python",
   "nbconvert_exporter": "python",
   "pygments_lexer": "ipython3",
   "version": "3.6.3"
  }
 },
 "nbformat": 4,
 "nbformat_minor": 2
}
